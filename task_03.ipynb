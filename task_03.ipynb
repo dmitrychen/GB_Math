{
 "cells": [
  {
   "cell_type": "markdown",
   "metadata": {},
   "source": [
    "# Задания к уроку 4"
   ]
  },
  {
   "cell_type": "markdown",
   "metadata": {},
   "source": [
    "Напишите код, моделирующий выпадение поля в рулетке (с учетом поля зеро)."
   ]
  },
  {
   "cell_type": "code",
   "execution_count": 1,
   "metadata": {},
   "outputs": [],
   "source": [
    "import numpy as np"
   ]
  },
  {
   "cell_type": "code",
   "execution_count": 2,
   "metadata": {},
   "outputs": [
    {
     "data": {
      "text/plain": [
       "array([ 6, 20, 19, 31, 27, 21, 23, 35, 35,  4])"
      ]
     },
     "execution_count": 2,
     "metadata": {},
     "output_type": "execute_result"
    }
   ],
   "source": [
    "np.random.randint(0, 37, 10)"
   ]
  },
  {
   "cell_type": "markdown",
   "metadata": {},
   "source": [
    "1)\tНапишите код, проверяющий любую из теорем сложения или умножения вероятности на примере подбрасывания монетки.\n",
    "\n",
    "2)\tСгенерируйте десять выборок случайных чисел х0, …, х9. и постройте гистограмму распределения случайной суммы х0+х1+ …+ х9."
   ]
  },
  {
   "cell_type": "code",
   "execution_count": 3,
   "metadata": {},
   "outputs": [
    {
     "name": "stdout",
     "output_type": "stream",
     "text": [
      "Количество удачных сбросов: 14 (все монетки \"Орел\"), \n",
      "Количество неудач: 86\n",
      "Вероятность удачных сбросов на основание теста: 0.14\n",
      "Рассчетная вероятность путем умножения: 0.125\n"
     ]
    }
   ],
   "source": [
    "k, m, l = 0, 0, 0 # counter\n",
    "n_drops = 100 # define number of drops\n",
    "n_coins = 3 # define number of coins\n",
    "x = np.random.randint(0, 2, size=(n_drops, n_coins))\n",
    "#print(f'Результаты случайных сбросов монет: \\n {x}')\n",
    "for i in range(0, n_drops):\n",
    "    for j in range(0, n_coins):\n",
    "        if x[i,j] == 1:\n",
    "            l += 1\n",
    "        else:\n",
    "            l = 0\n",
    "    if l == n_coins:\n",
    "        k += 1\n",
    "        l = 0\n",
    "    else:\n",
    "        m += 1\n",
    "        l = 0\n",
    "print(f'Количество удачных сбросов: {k} (все монетки \"Орел\"), \\nКоличество неудач: {m}')\n",
    "print(f'Вероятность удачных сбросов на основание теста: {k / n_drops}')\n",
    "print(f'Рассчетная вероятность путем умножения: {(1/2) ** n_coins}')"
   ]
  },
  {
   "cell_type": "code",
   "execution_count": 4,
   "metadata": {},
   "outputs": [
    {
     "name": "stdout",
     "output_type": "stream",
     "text": [
      "Количество удачных сбросов: 15 (все монетки \"Орел\"), \n",
      "Количество неудач: 85\n",
      "Вероятность удачных сбросов на основание теста: 0.15\n",
      "Рассчетная вероятность путем умножения: 0.125\n"
     ]
    }
   ],
   "source": [
    "k, m = 0, 0 # counter\n",
    "n_drops = 100 # define number of drops\n",
    "n_coins = 3 # define number of coins\n",
    "x = np.random.randint(0, 2, size=(n_drops, n_coins))\n",
    "#print(f'Результаты случайных сбросов монет: \\n {x}')\n",
    "for i in range(0, n_drops):\n",
    "    if x[i].sum() == n_coins:\n",
    "        k += 1\n",
    "    else:\n",
    "        m += 1\n",
    "print(f'Количество удачных сбросов: {k} (все монетки \"Орел\"), \\nКоличество неудач: {m}')\n",
    "print(f'Вероятность удачных сбросов на основание теста: {k / n_drops}')\n",
    "print(f'Рассчетная вероятность путем умножения: {(1/2) ** n_coins}')"
   ]
  },
  {
   "cell_type": "code",
   "execution_count": 5,
   "metadata": {},
   "outputs": [],
   "source": [
    "%matplotlib inline\n",
    "import matplotlib.pyplot as plt\n",
    "import matplotlib.mlab as mlab"
   ]
  },
  {
   "cell_type": "code",
   "execution_count": 6,
   "metadata": {},
   "outputs": [
    {
     "data": {
      "text/plain": [
       "Text(0.5,1,'Histogram')"
      ]
     },
     "execution_count": 6,
     "metadata": {},
     "output_type": "execute_result"
    },
    {
     "data": {
      "image/png": "[encoded data removed]",
      "text/plain": [
       "<matplotlib.figure.Figure at 0x87ee128>"
      ]
     },
     "metadata": {},
     "output_type": "display_data"
    }
   ],
   "source": [
    "x = np.random.rand(10)\n",
    "num_bins = 10\n",
    "n, bins, patches = plt.hist(x, num_bins)\n",
    "plt.xlabel('x')\n",
    "plt.ylabel('Probability')\n",
    "plt.title('Histogram')"
   ]
  },
  {
   "cell_type": "markdown",
   "metadata": {},
   "source": [
    "1)\tДополните код Монте-Карло последовательности независимых испытаний расчетом соответствующих вероятностей (через биномиальное распределение) и сравните результаты.\n",
    "\n",
    "2)\tПовторите расчеты, взяв другие значения n и k."
   ]
  },
  {
   "cell_type": "code",
   "execution_count": 7,
   "metadata": {},
   "outputs": [
    {
     "name": "stdout",
     "output_type": "stream",
     "text": [
      "385 1000 0.385\n"
     ]
    }
   ],
   "source": [
    "k, n = 0, 1000\n",
    "a = np.random.randint(0, 2, n)\n",
    "b = np.random.randint(0, 2, n)\n",
    "c = np.random.randint(0, 2, n)\n",
    "d = np.random.randint(0, 2, n)\n",
    "x = a + b + c + d\n",
    "for i in range(0, n):\n",
    "    if x[i] == 2:\n",
    "        k += 1\n",
    "# print(a, b, c, d)\n",
    "# print(x)\n",
    "print(k, n, k/n)"
   ]
  },
  {
   "cell_type": "markdown",
   "metadata": {},
   "source": [
    "Повторите расчеты, взяв другие значения n и k."
   ]
  },
  {
   "cell_type": "code",
   "execution_count": null,
   "metadata": {},
   "outputs": [],
   "source": []
  },
  {
   "attachments": {
    "image.png": {
     "image/png": "[encoded data removed]"
    }
   },
   "cell_type": "markdown",
   "metadata": {},
   "source": [
    "Дополните код расчетом коэффициента корреляции x и y по формуле\n",
    " \n",
    "![image.png](attachment:image.png)"
   ]
  },
  {
   "cell_type": "code",
   "execution_count": null,
   "metadata": {},
   "outputs": [],
   "source": []
  },
  {
   "cell_type": "markdown",
   "metadata": {},
   "source": [
    "# Задания к уроку 5"
   ]
  },
  {
   "cell_type": "markdown",
   "metadata": {},
   "source": [
    "1.\tВектор – это частный случай матрицы 1хN и Nх1. Повторите материал для векторов, уделяя особое внимание умножению A∙B.\n",
    "2.\tВычислите, по возможности не используя программирование: (5Е)–1, где Е – единичная матрица размера 5х5."
   ]
  },
  {
   "cell_type": "code",
   "execution_count": 8,
   "metadata": {},
   "outputs": [],
   "source": [
    "# ([5*[1 0 0 0 0]\n",
    "#    [0 1 0 0 0]\n",
    "#    [0 0 1 0 0]\n",
    "#    [0 0 0 1 0]\n",
    "#    [0 0 0 0 1]) - 1\n",
    "# =\n",
    "# [4 0 0 0 0]\n",
    "# [0 4 0 0 0]\n",
    "# [0 0 4 0 0]\n",
    "# [0 0 0 4 0]\n",
    "# [0 0 0 0 4]"
   ]
  },
  {
   "attachments": {
    "image.png": {
     "image/png": "[encoded data removed]"
    }
   },
   "cell_type": "markdown",
   "metadata": {},
   "source": [
    "![image.png](attachment:image.png)"
   ]
  },
  {
   "cell_type": "code",
   "execution_count": 9,
   "metadata": {},
   "outputs": [],
   "source": [
    "# определить матрицы = 1*0*9 + 2*6*7 + 3*4*8 - 3*0*7 - 2*4*9 - 1*6*8 = 0+84+96-0-72-48=60"
   ]
  },
  {
   "attachments": {
    "image.png": {
     "image/png": "[encoded data removed]"
    }
   },
   "cell_type": "markdown",
   "metadata": {},
   "source": [
    "![image.png](attachment:image.png)"
   ]
  },
  {
   "cell_type": "code",
   "execution_count": 10,
   "metadata": {},
   "outputs": [],
   "source": [
    "# обратная матрица =\n",
    "# A -транспонированное =\n",
    "# [1, 4, 7]\n",
    "# [2, 0, 8]\n",
    "# [3, 6, 9]\n",
    "\n",
    "# 1,1 [0,8]\n",
    "#     [6,9] = 0-48 = -48\n",
    "# 1,2 [2,8]\n",
    "#     [3,9] = 24-18 = 6\n",
    "# 1,3 [2,0]\n",
    "#     [3,6] = 12-0 = 12\n",
    "# 2,1 [4,7]\n",
    "#     [6,9] = 36-42 = -6\n",
    "# 2,2 [1,7]\n",
    "#     [3,9] = 9-21 = -12\n",
    "# 2,3 [1,4]\n",
    "#     [3,6] = 6-12 = -6\n",
    "# 3,1 [4,7]\n",
    "#     [0,8] = 32-0 = 32\n",
    "# 3,2 [1,7]\n",
    "#     [2,8] = 8-14 = -6\n",
    "# 3,3 [1,4]\n",
    "#     [2,0] = 0-8 = 8\n",
    "\n",
    "# Обратная матрица =\n",
    "# [-48,   6, 12]\n",
    "# [ -6, -12, -6]\n",
    "# [ 32,  -6,  8]"
   ]
  },
  {
   "cell_type": "markdown",
   "metadata": {},
   "source": [
    "5.4.\n",
    "Вычислите скалярное произведение двух векторов:  \n",
    "(1, 5)  и  (2, 8)"
   ]
  },
  {
   "cell_type": "code",
   "execution_count": null,
   "metadata": {},
   "outputs": [],
   "source": []
  },
  {
   "cell_type": "markdown",
   "metadata": {},
   "source": [
    "5.5\n",
    "Вычислите смешанное произведение трех векторов:\n",
    "(1, 5, 0), (2, 8, 7) и (7, 1.5, 3)"
   ]
  },
  {
   "cell_type": "code",
   "execution_count": null,
   "metadata": {},
   "outputs": [],
   "source": []
  }
 ],
 "metadata": {
  "kernelspec": {
   "display_name": "Python 3",
   "language": "python",
   "name": "python3"
  },
  "language_info": {
   "codemirror_mode": {
    "name": "ipython",
    "version": 3
   },
   "file_extension": ".py",
   "mimetype": "text/x-python",
   "name": "python",
   "nbconvert_exporter": "python",
   "pygments_lexer": "ipython3",
   "version": "3.6.4"
  }
 },
 "nbformat": 4,
 "nbformat_minor": 2
}
